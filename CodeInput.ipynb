{
 "cells": [
  {
   "cell_type": "code",
   "execution_count": 3,
   "metadata": {},
   "outputs": [
    {
     "name": "stdin",
     "output_type": "stream",
     "text": [
      "Enter your name. Mike\n",
      "Please enter your favorite food. Food\n",
      "Please enter your hourly pay:  120\n"
     ]
    },
    {
     "name": "stdout",
     "output_type": "stream",
     "text": [
      "Hello Mike , you get paid 120 dollars an hour!  You should buy Food\n"
     ]
    }
   ],
   "source": [
    "try:\n",
    "    name = input(\"Enter your name.\")\n",
    "    favFood = input(\"Please enter your favorite food.\")\n",
    "    hourly = input(\"Please enter your hourly pay: \")\n",
    "    print(\"Hello\", name, \", you get paid\", hourly, \"dollars an hour!\", \"You should buy\", favFood, \".\")\n",
    "except:\n",
    "    print(\"Invalid Input. Please restart the program.\")\n",
    "\n"
   ]
  },
  {
   "cell_type": "code",
   "execution_count": null,
   "metadata": {},
   "outputs": [],
   "source": []
  }
 ],
 "metadata": {
  "kernelspec": {
   "display_name": "Python 3",
   "language": "python",
   "name": "python3"
  },
  "language_info": {
   "codemirror_mode": {
    "name": "ipython",
    "version": 3
   },
   "file_extension": ".py",
   "mimetype": "text/x-python",
   "name": "python",
   "nbconvert_exporter": "python",
   "pygments_lexer": "ipython3",
   "version": "3.8.3"
  }
 },
 "nbformat": 4,
 "nbformat_minor": 4
}
